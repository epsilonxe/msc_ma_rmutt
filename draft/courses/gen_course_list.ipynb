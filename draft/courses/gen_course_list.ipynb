{
 "cells": [
  {
   "cell_type": "code",
   "execution_count": 74,
   "id": "c43d9a72-122f-40ca-8cc6-4f50b83ff383",
   "metadata": {},
   "outputs": [],
   "source": [
    "import json\n",
    "\n",
    "def formatid(cid):\n",
    "    return cid[:2]+'-'+cid[2:5]+'-'+cid[5:]\n",
    "\n",
    "def filterid(courses, typecode=None):\n",
    "    typecode = [k for k in range(1, 6)] if typecode is None else typecode\n",
    "    typecode = [typecode] if type(typecode) == int else typecode\n",
    "    filtered_courses = []\n",
    "    ids = list(courses.keys())\n",
    "    for i in ids:\n",
    "        if courses[i]['type'] in typecode:\n",
    "            filtered_courses.append(i)\n",
    "    return filtered_courses\n",
    "    \n",
    "def export(courses, ids=None, mode='short', save=None):\n",
    "    ids = list(courses.keys()) if ids is None else ids\n",
    "    text = ''\n",
    "    match mode:\n",
    "        case 'short':\n",
    "            text = r'\\begin{longtable}{p{0.15\\textwidth}p{0.6\\textwidth}r{0.15\\textwidth}}' + '\\n'\n",
    "            for i in ids:\n",
    "                title_th = courses[i]['title_th']\n",
    "                title_en = courses[i]['title_en']\n",
    "                credits = courses[i]['credits']\n",
    "                lecture = courses[i]['lecture_hr']\n",
    "                lab = courses[i]['lab_hr']\n",
    "                text += f'{formatid(i)} & {title_th} & {credits}({lecture}-{lab})' + r'\\\\' + '\\n'\n",
    "                text += f'& {title_en} & ' + r'\\\\[3mm]' + '\\n'\n",
    "            text += r'\\end{longtable}' + '\\n'\n",
    "        case 'description':\n",
    "            text = r'\\begin{longtable}{p{0.15\\textwidth}p{0.6\\textwidth}r{0.15\\textwidth}}' + '\\n'\n",
    "            for i in ids:\n",
    "                title_th = courses[i]['title_th']\n",
    "                title_en = courses[i]['title_en']\n",
    "                credits = courses[i]['credits']\n",
    "                lecture = courses[i]['lecture_hr']\n",
    "                lab = courses[i]['lab_hr']\n",
    "                description_th = courses[i]['description_th']\n",
    "                description_en = courses[i]['description_en']\n",
    "                text += f'{formatid(i)} & {title_th} & {credits}({lecture}-{lab})' + r'\\\\*' + '\\n'\n",
    "                text += f' & {title_en} & ' + r'\\phantom{x} \\vspace{3mm} \\\\*' + '\\n'\n",
    "                text += r'&  \\multicolumn{2}{p{0.75\\textwidth}}{' + description_th  + r'} \\vspace{3mm} \\\\*' + '\\n'\n",
    "                text += r'&  \\multicolumn{2}{p{0.75\\textwidth}}{' + description_en  + r'} \\vspace{8mm} \\\\*' + '\\n'\n",
    "            text += r'\\end{longtable}' + '\\n' \n",
    "        case 'los_mapping':\n",
    "            with open('table_tqf_header.tex', 'r') as file:\n",
    "                text = file.read()\n",
    "            for i in ids:\n",
    "                title_th = courses[i]['title_th']\n",
    "                los = courses[i]['los_mapping']\n",
    "                text += f'{formatid(i)} & {title_th} '\n",
    "                for k in range(10):\n",
    "                    text += r'& \\ding{108}' if k+1 in los else r'& '\n",
    "                text += r'\\\\ \\hline' + '\\n' \n",
    "            text += r'\\end{longtable}' + '\\n'     \n",
    "        case 'plos_mapping':\n",
    "            with open('table_plos_header.tex', 'r') as file:\n",
    "                text = file.read()\n",
    "            for i in ids:\n",
    "                title_th = courses[i]['title_th']\n",
    "                plos = courses[i]['plos_mapping']\n",
    "                text += f'{formatid(i)} & {title_th} '\n",
    "                for k in range(10):\n",
    "                    text += r'& \\ding{108}' if k+1 in plos else r'& '\n",
    "                text += r'\\\\ \\hline' + '\\n' \n",
    "            text += r'\\end{longtable}' + '\\n'\n",
    "        case _:\n",
    "            pass\n",
    "    if save:\n",
    "        with open(save, 'w') as file:\n",
    "            file.write(text)\n",
    "        print(f'Save results at {save} successfully')\n",
    "    return text   "
   ]
  },
  {
   "cell_type": "code",
   "execution_count": 67,
   "id": "ed13d8c8-f4d6-4d85-8dd8-9ad25042a79e",
   "metadata": {},
   "outputs": [],
   "source": [
    "with open('courses.json') as file:\n",
    "    text = json.load(file)\n",
    "courses = text['courses']"
   ]
  },
  {
   "cell_type": "code",
   "execution_count": 68,
   "id": "222450aa-9596-43b5-9ac5-77d985e98ef3",
   "metadata": {},
   "outputs": [
    {
     "data": {
      "text/plain": [
       "['09110601',\n",
       " '09110602',\n",
       " '09111601',\n",
       " '09111602',\n",
       " '09111603',\n",
       " '09111704',\n",
       " '09111705',\n",
       " '09112601',\n",
       " '09112702',\n",
       " '09113601',\n",
       " '09113702',\n",
       " '09113603',\n",
       " '09113704',\n",
       " '09114701',\n",
       " '09114702',\n",
       " '09114603',\n",
       " '09114604',\n",
       " '09114705',\n",
       " '09114706',\n",
       " '09114707',\n",
       " '09114708',\n",
       " '09114709',\n",
       " '09115701',\n",
       " '09115702',\n",
       " '09115703']"
      ]
     },
     "execution_count": 68,
     "metadata": {},
     "output_type": "execute_result"
    }
   ],
   "source": [
    "ids = list(courses.keys())\n",
    "ids"
   ]
  },
  {
   "cell_type": "code",
   "execution_count": 75,
   "id": "61907c31-5551-4883-a27b-62c0f3cc3458",
   "metadata": {},
   "outputs": [
    {
     "name": "stdout",
     "output_type": "stream",
     "text": [
      "Save results at outputs/nocredit.tex successfully\n"
     ]
    },
    {
     "data": {
      "text/plain": [
       "'\\\\begin{longtable}{p{0.15\\\\textwidth}p{0.6\\\\textwidth}r{0.15\\\\textwidth}}\\n09-110-601 & ระเบียบวิธีวิจัยการหาค่าเหมาะที่สุดเชิงคำนวณและการเรียนรู้ของเครื่อง & 3(3-0)\\\\\\\\\\n& Research Methodology in Computational Optimization and Machine Learning & \\\\\\\\[3mm]\\n09-110-602 & สัมมนา & 1(0-0)\\\\\\\\\\n& Seminar & \\\\\\\\[3mm]\\n\\\\end{longtable}\\n'"
      ]
     },
     "execution_count": 75,
     "metadata": {},
     "output_type": "execute_result"
    }
   ],
   "source": [
    "ids = filterid(courses, typecode=0)\n",
    "export(courses, ids, mode='short', save='outputs/nocredit.tex')"
   ]
  },
  {
   "cell_type": "code",
   "execution_count": 83,
   "id": "94585149-e578-4743-b888-c7633072a7d5",
   "metadata": {},
   "outputs": [
    {
     "name": "stdout",
     "output_type": "stream",
     "text": [
      "Save results at outputs/common.tex successfully\n"
     ]
    }
   ],
   "source": [
    "ids = filterid(courses, typecode=1)\n",
    "export(courses, ids, mode='short', save='outputs/common.tex');"
   ]
  },
  {
   "cell_type": "code",
   "execution_count": 80,
   "id": "36093041-bb2a-4828-9d15-29398445c210",
   "metadata": {},
   "outputs": [
    {
     "name": "stdout",
     "output_type": "stream",
     "text": [
      "Save results at outputs/selective-ma.tex successfully\n"
     ]
    }
   ],
   "source": [
    "ids = filterid(courses, typecode=2)\n",
    "export(courses, ids, mode='short', save='outputs/selective-ma.tex');"
   ]
  },
  {
   "cell_type": "code",
   "execution_count": 79,
   "id": "4978280c-4df8-47c2-abe5-7ed7104d7483",
   "metadata": {},
   "outputs": [
    {
     "name": "stdout",
     "output_type": "stream",
     "text": [
      "Save results at outputs/description.tex successfully\n"
     ]
    }
   ],
   "source": [
    "export(courses, mode='description', save='outputs/description.tex');"
   ]
  },
  {
   "cell_type": "code",
   "execution_count": 81,
   "id": "505ceb43-d2cf-46bf-ab0b-123e00331d34",
   "metadata": {},
   "outputs": [
    {
     "name": "stdout",
     "output_type": "stream",
     "text": [
      "Save results at outputs/losmapping.tex successfully\n"
     ]
    }
   ],
   "source": [
    "export(courses, mode='los_mapping', save='outputs/losmapping.tex');"
   ]
  },
  {
   "cell_type": "code",
   "execution_count": 82,
   "id": "be13dd00-7a7a-44c4-a2c7-a99bbffd3ecd",
   "metadata": {},
   "outputs": [
    {
     "name": "stdout",
     "output_type": "stream",
     "text": [
      "Save results at outputs/plosmapping.tex successfully\n"
     ]
    }
   ],
   "source": [
    "export(courses, mode='plos_mapping', save='outputs/plosmapping.tex');"
   ]
  },
  {
   "cell_type": "code",
   "execution_count": null,
   "id": "44387a68-007a-4f5b-8a55-09484fa7a57e",
   "metadata": {},
   "outputs": [],
   "source": []
  }
 ],
 "metadata": {
  "kernelspec": {
   "display_name": "Python 3 (ipykernel)",
   "language": "python",
   "name": "python3"
  },
  "language_info": {
   "codemirror_mode": {
    "name": "ipython",
    "version": 3
   },
   "file_extension": ".py",
   "mimetype": "text/x-python",
   "name": "python",
   "nbconvert_exporter": "python",
   "pygments_lexer": "ipython3",
   "version": "3.11.5"
  }
 },
 "nbformat": 4,
 "nbformat_minor": 5
}
