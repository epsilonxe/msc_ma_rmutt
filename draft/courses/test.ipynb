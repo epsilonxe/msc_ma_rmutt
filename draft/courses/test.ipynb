{
 "cells": [
  {
   "cell_type": "code",
   "execution_count": 17,
   "id": "0791f88f-bda9-4a9c-9225-9e08cff399c5",
   "metadata": {},
   "outputs": [],
   "source": [
    "import json\n",
    "\n",
    "with open('all.json', 'r') as file:\n",
    "    text = json.load(file)"
   ]
  },
  {
   "cell_type": "code",
   "execution_count": 19,
   "id": "c9b2a222-e5cd-4fa4-9f27-32b4a86864b1",
   "metadata": {},
   "outputs": [
    {
     "data": {
      "text/plain": [
       "dict"
      ]
     },
     "execution_count": 19,
     "metadata": {},
     "output_type": "execute_result"
    }
   ],
   "source": [
    "type(text)"
   ]
  },
  {
   "cell_type": "code",
   "execution_count": 20,
   "id": "e8946527-5262-4d57-b8db-162f108da6f9",
   "metadata": {},
   "outputs": [],
   "source": [
    "courses = text['courses']"
   ]
  },
  {
   "cell_type": "code",
   "execution_count": 32,
   "id": "b2136016-1157-4b49-b9a4-c9575cde52ed",
   "metadata": {},
   "outputs": [
    {
     "data": {
      "text/plain": [
       "'common'"
      ]
     },
     "execution_count": 32,
     "metadata": {},
     "output_type": "execute_result"
    }
   ],
   "source": [
    "courses['09110501']['type']"
   ]
  },
  {
   "cell_type": "code",
   "execution_count": null,
   "id": "6e28d338-9974-4243-b28d-f7a66d7ce151",
   "metadata": {},
   "outputs": [],
   "source": []
  }
 ],
 "metadata": {
  "kernelspec": {
   "display_name": "Python 3 (ipykernel)",
   "language": "python",
   "name": "python3"
  },
  "language_info": {
   "codemirror_mode": {
    "name": "ipython",
    "version": 3
   },
   "file_extension": ".py",
   "mimetype": "text/x-python",
   "name": "python",
   "nbconvert_exporter": "python",
   "pygments_lexer": "ipython3",
   "version": "3.11.5"
  }
 },
 "nbformat": 4,
 "nbformat_minor": 5
}
