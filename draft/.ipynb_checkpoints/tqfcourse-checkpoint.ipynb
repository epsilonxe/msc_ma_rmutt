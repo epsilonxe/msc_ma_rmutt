{
 "cells": [
  {
   "cell_type": "code",
   "execution_count": 1,
   "id": "a09c2b4d-086f-4715-8c3c-f8046aa0cecb",
   "metadata": {},
   "outputs": [],
   "source": [
    "from titlecase import titlecase\n",
    "\n",
    "def read_course(path):\n",
    "    with open(path, 'r', encoding='utf-8') as file:\n",
    "        lines = file.readlines()\n",
    "    course = []\n",
    "    courses = []\n",
    "    for line in lines:\n",
    "        line = line.strip()\n",
    "        if line != '':\n",
    "            course.append(line)\n",
    "        else:\n",
    "            if len(course) != 0:\n",
    "                courses.append(course)\n",
    "            course = []\n",
    "    if len(course) != 0:\n",
    "        courses.append(course)\n",
    "    return courses\n",
    "\n",
    "def export(course, mode='short', save=None):\n",
    "    if mode == 'short':\n",
    "        text = r'\\begin{longtable}{p{0.15\\textwidth}p{0.6\\textwidth}r{0.15\\textwidth}}' + '\\n'\n",
    "        for c in course:\n",
    "            text += f'{c[0][:2]}-{c[0][2:5]}-{c[0][5:]} & {c[1]} & {c[3]}' + r'\\\\' + '\\n'\n",
    "            text += f' & {titlecase(c[2])} & ' + r'\\\\[3mm]' + '\\n'\n",
    "        text += r'\\end{longtable}' + '\\n' \n",
    "    elif mode == 'description':\n",
    "        text = r'\\begin{longtable}{p{0.15\\textwidth}p{0.6\\textwidth}r{0.15\\textwidth}}' + '\\n'\n",
    "        for c in course:\n",
    "            text += f'{c[0][:2]}-{c[0][2:5]}-{c[0][5:]} & {c[1]} & {c[3]}' + r'\\\\*' + '\\n'\n",
    "            text += f' & {titlecase(c[2])} & ' + r'\\phantom{x} \\vspace{3mm} \\\\*' + '\\n'\n",
    "            text += r'&  \\multicolumn{2}{p{0.75\\textwidth}}{' + c[4]  + r'} \\vspace{3mm} \\\\*' + '\\n'\n",
    "            text += r'&  \\multicolumn{2}{p{0.75\\textwidth}}{' + titlecase(c[5])  + r'} \\vspace{8mm} \\\\*' + '\\n'\n",
    "        text += r'\\end{longtable}' + '\\n' \n",
    "    else:\n",
    "        text = ''\n",
    "    if save is not None:\n",
    "        with open('courses/outputs/'+save+'.tex', 'w') as file:\n",
    "            file.write(text)\n",
    "    return text"
   ]
  },
  {
   "cell_type": "code",
   "execution_count": 3,
   "id": "a2056878-86ba-4769-8d66-63c1c57a5af7",
   "metadata": {},
   "outputs": [],
   "source": [
    "groups = ['common', 'election', 'is', 'thesis', 'nocredit']\n",
    "for g in groups:\n",
    "    courses = read_course(f'courses/{g}.txt')\n",
    "    export(courses, mode='short', save=g)\n",
    "    export(courses, mode='description', save=g+'_description')"
   ]
  },
  {
   "cell_type": "code",
   "execution_count": null,
   "id": "069736df-d1b2-433b-9e8d-82beb22543e0",
   "metadata": {},
   "outputs": [],
   "source": []
  }
 ],
 "metadata": {
  "kernelspec": {
   "display_name": "Python 3 (ipykernel)",
   "language": "python",
   "name": "python3"
  },
  "language_info": {
   "codemirror_mode": {
    "name": "ipython",
    "version": 3
   },
   "file_extension": ".py",
   "mimetype": "text/x-python",
   "name": "python",
   "nbconvert_exporter": "python",
   "pygments_lexer": "ipython3",
   "version": "3.12.5"
  }
 },
 "nbformat": 4,
 "nbformat_minor": 5
}
